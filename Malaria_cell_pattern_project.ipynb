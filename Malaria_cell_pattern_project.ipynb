{
  "nbformat": 4,
  "nbformat_minor": 0,
  "metadata": {
    "colab": {
      "provenance": []
    },
    "kernelspec": {
      "name": "python3",
      "display_name": "Python 3"
    },
    "language_info": {
      "name": "python"
    }
  },
  "cells": [
    {
      "cell_type": "code",
      "execution_count": null,
      "metadata": {
        "id": "xhoHFXA1Sqsy"
      },
      "outputs": [],
      "source": [
        "pip install -q kaggle"
      ]
    },
    {
      "cell_type": "code",
      "source": [
        "from google.colab import files\n",
        "files.upload()"
      ],
      "metadata": {
        "colab": {
          "base_uri": "https://localhost:8080/",
          "height": 90
        },
        "id": "gDCEjIafSwFv",
        "outputId": "b064db50-8726-4126-9b01-3412efb771c7"
      },
      "execution_count": null,
      "outputs": [
        {
          "output_type": "display_data",
          "data": {
            "text/plain": [
              "<IPython.core.display.HTML object>"
            ],
            "text/html": [
              "\n",
              "     <input type=\"file\" id=\"files-9d56ec54-96ef-4d45-a853-0a43415d2a6c\" name=\"files[]\" multiple disabled\n",
              "        style=\"border:none\" />\n",
              "     <output id=\"result-9d56ec54-96ef-4d45-a853-0a43415d2a6c\">\n",
              "      Upload widget is only available when the cell has been executed in the\n",
              "      current browser session. Please rerun this cell to enable.\n",
              "      </output>\n",
              "      <script>// Copyright 2017 Google LLC\n",
              "//\n",
              "// Licensed under the Apache License, Version 2.0 (the \"License\");\n",
              "// you may not use this file except in compliance with the License.\n",
              "// You may obtain a copy of the License at\n",
              "//\n",
              "//      http://www.apache.org/licenses/LICENSE-2.0\n",
              "//\n",
              "// Unless required by applicable law or agreed to in writing, software\n",
              "// distributed under the License is distributed on an \"AS IS\" BASIS,\n",
              "// WITHOUT WARRANTIES OR CONDITIONS OF ANY KIND, either express or implied.\n",
              "// See the License for the specific language governing permissions and\n",
              "// limitations under the License.\n",
              "\n",
              "/**\n",
              " * @fileoverview Helpers for google.colab Python module.\n",
              " */\n",
              "(function(scope) {\n",
              "function span(text, styleAttributes = {}) {\n",
              "  const element = document.createElement('span');\n",
              "  element.textContent = text;\n",
              "  for (const key of Object.keys(styleAttributes)) {\n",
              "    element.style[key] = styleAttributes[key];\n",
              "  }\n",
              "  return element;\n",
              "}\n",
              "\n",
              "// Max number of bytes which will be uploaded at a time.\n",
              "const MAX_PAYLOAD_SIZE = 100 * 1024;\n",
              "\n",
              "function _uploadFiles(inputId, outputId) {\n",
              "  const steps = uploadFilesStep(inputId, outputId);\n",
              "  const outputElement = document.getElementById(outputId);\n",
              "  // Cache steps on the outputElement to make it available for the next call\n",
              "  // to uploadFilesContinue from Python.\n",
              "  outputElement.steps = steps;\n",
              "\n",
              "  return _uploadFilesContinue(outputId);\n",
              "}\n",
              "\n",
              "// This is roughly an async generator (not supported in the browser yet),\n",
              "// where there are multiple asynchronous steps and the Python side is going\n",
              "// to poll for completion of each step.\n",
              "// This uses a Promise to block the python side on completion of each step,\n",
              "// then passes the result of the previous step as the input to the next step.\n",
              "function _uploadFilesContinue(outputId) {\n",
              "  const outputElement = document.getElementById(outputId);\n",
              "  const steps = outputElement.steps;\n",
              "\n",
              "  const next = steps.next(outputElement.lastPromiseValue);\n",
              "  return Promise.resolve(next.value.promise).then((value) => {\n",
              "    // Cache the last promise value to make it available to the next\n",
              "    // step of the generator.\n",
              "    outputElement.lastPromiseValue = value;\n",
              "    return next.value.response;\n",
              "  });\n",
              "}\n",
              "\n",
              "/**\n",
              " * Generator function which is called between each async step of the upload\n",
              " * process.\n",
              " * @param {string} inputId Element ID of the input file picker element.\n",
              " * @param {string} outputId Element ID of the output display.\n",
              " * @return {!Iterable<!Object>} Iterable of next steps.\n",
              " */\n",
              "function* uploadFilesStep(inputId, outputId) {\n",
              "  const inputElement = document.getElementById(inputId);\n",
              "  inputElement.disabled = false;\n",
              "\n",
              "  const outputElement = document.getElementById(outputId);\n",
              "  outputElement.innerHTML = '';\n",
              "\n",
              "  const pickedPromise = new Promise((resolve) => {\n",
              "    inputElement.addEventListener('change', (e) => {\n",
              "      resolve(e.target.files);\n",
              "    });\n",
              "  });\n",
              "\n",
              "  const cancel = document.createElement('button');\n",
              "  inputElement.parentElement.appendChild(cancel);\n",
              "  cancel.textContent = 'Cancel upload';\n",
              "  const cancelPromise = new Promise((resolve) => {\n",
              "    cancel.onclick = () => {\n",
              "      resolve(null);\n",
              "    };\n",
              "  });\n",
              "\n",
              "  // Wait for the user to pick the files.\n",
              "  const files = yield {\n",
              "    promise: Promise.race([pickedPromise, cancelPromise]),\n",
              "    response: {\n",
              "      action: 'starting',\n",
              "    }\n",
              "  };\n",
              "\n",
              "  cancel.remove();\n",
              "\n",
              "  // Disable the input element since further picks are not allowed.\n",
              "  inputElement.disabled = true;\n",
              "\n",
              "  if (!files) {\n",
              "    return {\n",
              "      response: {\n",
              "        action: 'complete',\n",
              "      }\n",
              "    };\n",
              "  }\n",
              "\n",
              "  for (const file of files) {\n",
              "    const li = document.createElement('li');\n",
              "    li.append(span(file.name, {fontWeight: 'bold'}));\n",
              "    li.append(span(\n",
              "        `(${file.type || 'n/a'}) - ${file.size} bytes, ` +\n",
              "        `last modified: ${\n",
              "            file.lastModifiedDate ? file.lastModifiedDate.toLocaleDateString() :\n",
              "                                    'n/a'} - `));\n",
              "    const percent = span('0% done');\n",
              "    li.appendChild(percent);\n",
              "\n",
              "    outputElement.appendChild(li);\n",
              "\n",
              "    const fileDataPromise = new Promise((resolve) => {\n",
              "      const reader = new FileReader();\n",
              "      reader.onload = (e) => {\n",
              "        resolve(e.target.result);\n",
              "      };\n",
              "      reader.readAsArrayBuffer(file);\n",
              "    });\n",
              "    // Wait for the data to be ready.\n",
              "    let fileData = yield {\n",
              "      promise: fileDataPromise,\n",
              "      response: {\n",
              "        action: 'continue',\n",
              "      }\n",
              "    };\n",
              "\n",
              "    // Use a chunked sending to avoid message size limits. See b/62115660.\n",
              "    let position = 0;\n",
              "    do {\n",
              "      const length = Math.min(fileData.byteLength - position, MAX_PAYLOAD_SIZE);\n",
              "      const chunk = new Uint8Array(fileData, position, length);\n",
              "      position += length;\n",
              "\n",
              "      const base64 = btoa(String.fromCharCode.apply(null, chunk));\n",
              "      yield {\n",
              "        response: {\n",
              "          action: 'append',\n",
              "          file: file.name,\n",
              "          data: base64,\n",
              "        },\n",
              "      };\n",
              "\n",
              "      let percentDone = fileData.byteLength === 0 ?\n",
              "          100 :\n",
              "          Math.round((position / fileData.byteLength) * 100);\n",
              "      percent.textContent = `${percentDone}% done`;\n",
              "\n",
              "    } while (position < fileData.byteLength);\n",
              "  }\n",
              "\n",
              "  // All done.\n",
              "  yield {\n",
              "    response: {\n",
              "      action: 'complete',\n",
              "    }\n",
              "  };\n",
              "}\n",
              "\n",
              "scope.google = scope.google || {};\n",
              "scope.google.colab = scope.google.colab || {};\n",
              "scope.google.colab._files = {\n",
              "  _uploadFiles,\n",
              "  _uploadFilesContinue,\n",
              "};\n",
              "})(self);\n",
              "</script> "
            ]
          },
          "metadata": {}
        },
        {
          "output_type": "stream",
          "name": "stdout",
          "text": [
            "Saving kaggle.json to kaggle.json\n"
          ]
        },
        {
          "output_type": "execute_result",
          "data": {
            "text/plain": [
              "{'kaggle.json': b'{\"username\":\"omareldamrany\",\"key\":\"1b981ce345a7f4a1189ef6e78cd1b4da\"}'}"
            ]
          },
          "metadata": {},
          "execution_count": 2
        }
      ]
    },
    {
      "cell_type": "code",
      "source": [
        "! mkdir ~/.kaggle"
      ],
      "metadata": {
        "id": "xT9J7302SxTq"
      },
      "execution_count": null,
      "outputs": []
    },
    {
      "cell_type": "code",
      "source": [
        "!cp kaggle.json ~/.kaggle/"
      ],
      "metadata": {
        "id": "FinTSBKUS1gx"
      },
      "execution_count": null,
      "outputs": []
    },
    {
      "cell_type": "code",
      "source": [
        "! chmod 600 ~/.kaggle/kaggle.json"
      ],
      "metadata": {
        "id": "TDAdBfu4S2JV"
      },
      "execution_count": null,
      "outputs": []
    },
    {
      "cell_type": "code",
      "source": [
        "! kaggle datasets list"
      ],
      "metadata": {
        "id": "5tNsf-L6S2xR"
      },
      "execution_count": null,
      "outputs": []
    },
    {
      "cell_type": "code",
      "source": [
        "! kaggle datasets download -d iarunava/cell-images-for-detecting-malaria"
      ],
      "metadata": {
        "colab": {
          "base_uri": "https://localhost:8080/"
        },
        "id": "YsSDNgq6S3ee",
        "outputId": "8713c76b-f420-48f1-8e64-38a22ed358a3"
      },
      "execution_count": null,
      "outputs": [
        {
          "output_type": "stream",
          "name": "stdout",
          "text": [
            "Downloading cell-images-for-detecting-malaria.zip to /content\n",
            " 98% 664M/675M [00:02<00:00, 273MB/s]\n",
            "100% 675M/675M [00:02<00:00, 260MB/s]\n"
          ]
        }
      ]
    },
    {
      "cell_type": "code",
      "source": [
        "!unzip cell-images-for-detecting-malaria"
      ],
      "metadata": {
        "id": "Yn7F_BBSS5XQ"
      },
      "execution_count": null,
      "outputs": []
    },
    {
      "cell_type": "code",
      "source": [
        "import shutil\n",
        "\n",
        "shutil.rmtree('/content/Data/parasitized')\n",
        "shutil.rmtree('/content/Data/uninfected')"
      ],
      "metadata": {
        "id": "177GVcYVcnoD"
      },
      "execution_count": 276,
      "outputs": []
    },
    {
      "cell_type": "code",
      "source": [
        "import os \n",
        "import cv2\n",
        "import matplotlib.pyplot as plt \n",
        "import numpy as np \n",
        "import pandas as pd \n",
        "from PIL import Image\n",
        "import glob as gb\n",
        "import shutil\n",
        "import csv\n",
        "from scipy.stats import skew,kurtosis,entropy\n",
        "import tensorflow as tf\n",
        "from tensorflow import keras\n",
        "from tensorflow.keras.utils import img_to_array"
      ],
      "metadata": {
        "id": "Gvj3pm2CS7-F"
      },
      "execution_count": null,
      "outputs": []
    },
    {
      "cell_type": "code",
      "source": [
        "!mkdir /content/Data\n",
        "!mkdir /content/Data/parasitized\n",
        "!mkdir /content/Data/uninfected \n",
        "\n",
        "#getting paths of both classes\n",
        "parasitized_path = '/content/cell_images/Parasitized'\n",
        "uninfected_path = '/content/cell_images/Uninfected'\n",
        "\n",
        "#taking 500 photos only from each directory \n",
        "\n",
        "c=0\n",
        "src_dir = \"/content/cell_images/Parasitized\"\n",
        "dst_dir = \"/content/Data/parasitized\"\n",
        "for jpgfile in gb.iglob(os.path.join(src_dir, \"*.png\")):\n",
        "    if (c<3000):\n",
        "      shutil.copy(jpgfile, dst_dir)\n",
        "      c += 1\n",
        "    else :\n",
        "      break\n",
        "c=0\n",
        "src_dir = \"/content/cell_images/Uninfected\"\n",
        "dst_dir = \"/content/Data/uninfected\"\n",
        "for jpgfile in gb.iglob(os.path.join(src_dir, \"*.png\")):\n",
        "    if (c<3000):\n",
        "      shutil.copy(jpgfile, dst_dir)\n",
        "      c += 1\n",
        "    else :\n",
        "      break"
      ],
      "metadata": {
        "id": "d_KW4K37TIEj",
        "colab": {
          "base_uri": "https://localhost:8080/"
        },
        "outputId": "46a94911-070f-44dc-99e9-4b8066b32f57"
      },
      "execution_count": 277,
      "outputs": [
        {
          "output_type": "stream",
          "name": "stdout",
          "text": [
            "mkdir: cannot create directory ‘/content/Data’: File exists\n"
          ]
        }
      ]
    },
    {
      "cell_type": "code",
      "source": [
        "parasitized_path = '/content/Data/parasitized'\n",
        "uninfected_path = '/content/Data/uninfected'\n",
        "\n",
        "f = open('/content/features_extracted.csv','w',newline='')\n",
        "writer = csv.writer(f)\n",
        "title = ['binary_green Mean','Median','Variance','STD','green_diff Mean','Median','Variance','STD','Label'] # 0 --> parasitized 1 --> uninfected\n",
        "writer.writerow(title)\n",
        "\n",
        "parasitized_data=[]\n",
        "uninfected_data=[]\n",
        "\n",
        "# features extraction process\n",
        "\n",
        "\n",
        "#parasitized\n",
        "label = parasitized_path.split('/')[-1]\n",
        "\n",
        "for image in os.listdir(parasitized_path):\n",
        "  extracted_features = []\n",
        "  img = cv2.imread(os.path.join(parasitized_path,image), cv2.IMREAD_COLOR)\n",
        "  img = cv2.resize(img, (100,100))\n",
        " \n",
        "  binary_mask = cv2.split(img)[0]\n",
        "  ret , binary_mask = cv2.threshold(binary_mask, 10, 255, cv2.THRESH_BINARY)\n",
        "  ret, binary_green = cv2.threshold(cv2.split(img)[1], 100, 255, cv2.THRESH_BINARY)\n",
        "  kernel = np.ones((3,3),np.uint8)\n",
        "\n",
        "  binary_mask = cv2.erode(binary_mask, kernel, iterations = 1)\n",
        "  infection = cv2.subtract(binary_mask, binary_green)\n",
        "\n",
        "  img_array = img_to_array(binary_green)\n",
        "  parasitized_data.append(img_array)\n",
        "\n",
        "\n",
        "\n",
        "  extracted_features.append(np.mean(binary_green))\n",
        "  extracted_features.append(np.median(binary_green))\n",
        "  extracted_features.append(np.var(binary_green, dtype= np.float32))\n",
        "  extracted_features.append(np.std(binary_green))\n",
        "\n",
        "  extracted_features.append(np.mean(infection))\n",
        "  extracted_features.append(np.median(infection))\n",
        "  extracted_features.append(np.var(infection, dtype= np.float32))\n",
        "  extracted_features.append(np.std(infection))\n",
        "  extracted_features.append(0)\n",
        "  writer.writerow(extracted_features)\n",
        "\n",
        "#uninfected  \n",
        "label = uninfected_path.split('/')[-1]\n",
        "for image in os.listdir(uninfected_path):\n",
        "  extracted_features = []\n",
        "  img = cv2.imread(os.path.join(uninfected_path,image))\n",
        "  img_gray = cv2.cvtColor (img,cv2.COLOR_RGB2GRAY)\n",
        "  img = cv2.resize(img, (100,100))\n",
        "  img_gray = cv2.resize(img_gray, (100,100))\n",
        "\n",
        "  binary_mask = cv2.split(img)[0]\n",
        "  ret , binary_mask = cv2.threshold(binary_mask, 10, 255, cv2.THRESH_BINARY)\n",
        "  ret, binary_green = cv2.threshold(cv2.split(img)[1], 100, 255, cv2.THRESH_BINARY)\n",
        "  kernel = np.ones((3,3),np.uint8)\n",
        "\n",
        "  binary_mask = cv2.erode(binary_mask, kernel, iterations = 1)\n",
        "  infection = cv2.subtract(binary_mask, binary_green)\n",
        "\n",
        "  img_array = img_to_array(binary_green)\n",
        "  uninfected_data.append(img_array)\n",
        "\n",
        "  extracted_features.append(np.mean(binary_green))\n",
        "  extracted_features.append(np.median(binary_green))\n",
        "  extracted_features.append(np.var(binary_green, dtype= np.float32))\n",
        "  extracted_features.append(np.std(binary_green))\n",
        "\n",
        "  extracted_features.append(np.mean(infection))\n",
        "  extracted_features.append(np.median(infection))\n",
        "  extracted_features.append(np.var(infection, dtype= np.float32))\n",
        "  extracted_features.append(np.std(infection))\n",
        "  extracted_features.append(1)\n",
        "  writer.writerow(extracted_features)\n",
        "\n",
        "f.close()\n"
      ],
      "metadata": {
        "id": "y8vE166ITSOb"
      },
      "execution_count": 278,
      "outputs": []
    },
    {
      "cell_type": "code",
      "source": [
        "#visual comparison between parasitized vs uninfected malaria cell\n",
        "\n",
        "p = parasitized_data[0]\n",
        "u = uninfected_data[1]\n",
        "\n",
        "p2 = parasitized_data[10]\n",
        "u2 = uninfected_data[10]\n",
        "\n",
        "f, axarr = plt.subplots(2,2, figsize=(5,5))\n",
        "axarr[0,0].set_title('parasitized')\n",
        "axarr[0,0].imshow(p[:,:,0], cmap='gray')\n",
        "axarr[0,1].set_title('uninfected')\n",
        "axarr[0,1].imshow(u[:,:,0], cmap='gray')\n",
        "axarr[1,0].imshow(p2[:,:,0], cmap='gray')\n",
        "axarr[1,1].imshow(u2[:,:,0], cmap='gray')\n"
      ],
      "metadata": {
        "colab": {
          "base_uri": "https://localhost:8080/",
          "height": 353
        },
        "id": "STHGFSvkEzRI",
        "outputId": "53396c23-ee4b-4e54-8dbe-8e41eb6677d7"
      },
      "execution_count": 173,
      "outputs": [
        {
          "output_type": "execute_result",
          "data": {
            "text/plain": [
              "<matplotlib.image.AxesImage at 0x7f8564065c40>"
            ]
          },
          "metadata": {},
          "execution_count": 173
        },
        {
          "output_type": "display_data",
          "data": {
            "text/plain": [
              "<Figure size 360x360 with 4 Axes>"
            ],
            "image/png": "[encoded data removed]"
          },
          "metadata": {
            "needs_background": "light"
          }
        }
      ]
    },
    {
      "cell_type": "code",
      "source": [
        "from tensorflow.keras.models import Sequential\n",
        "from tensorflow.keras.layers import Dense\n",
        "from numpy import loadtxt"
      ],
      "metadata": {
        "id": "Vw2Ho1UeV9FA"
      },
      "execution_count": 174,
      "outputs": []
    },
    {
      "cell_type": "code",
      "source": [
        "#load csv file and shuffle \n",
        "dataset = loadtxt('/content/features_extracted.csv',skiprows=1 ,delimiter=',')\n",
        "np.random.shuffle(dataset)"
      ],
      "metadata": {
        "id": "wDQkUEPKWQaq"
      },
      "execution_count": 279,
      "outputs": []
    },
    {
      "cell_type": "code",
      "source": [
        "from sklearn.model_selection import train_test_split\n",
        "\n",
        "train, test = train_test_split(dataset, test_size=0.3, random_state=42)\n",
        "\n",
        "#get features from csv file as x and get labels as y \n",
        "x_train = train[:,0:8]\n",
        "y_train = train[:,8]\n",
        "x_test = test[:,0:8]\n",
        "y_test = test[:,8]\n",
        "\n",
        "#adding layers \n",
        "model = Sequential()\n",
        "model.add(Dense(12, input_shape=(8,), activation='relu'))\n",
        "model.add(Dense(8, activation='relu'))\n",
        "model.add(Dense(1, activation='sigmoid'))\n",
        "\n",
        "model.compile(loss='binary_crossentropy', optimizer='adam', metrics=['accuracy'])\n",
        "model.summary()"
      ],
      "metadata": {
        "colab": {
          "base_uri": "https://localhost:8080/"
        },
        "id": "mPedYChGWT0e",
        "outputId": "5b03bd8d-6188-495f-9f12-f82d3f7dc18d"
      },
      "execution_count": 280,
      "outputs": [
        {
          "output_type": "stream",
          "name": "stdout",
          "text": [
            "Model: \"sequential_15\"\n",
            "_________________________________________________________________\n",
            " Layer (type)                Output Shape              Param #   \n",
            "=================================================================\n",
            " dense_45 (Dense)            (None, 12)                108       \n",
            "                                                                 \n",
            " dense_46 (Dense)            (None, 8)                 104       \n",
            "                                                                 \n",
            " dense_47 (Dense)            (None, 1)                 9         \n",
            "                                                                 \n",
            "=================================================================\n",
            "Total params: 221\n",
            "Trainable params: 221\n",
            "Non-trainable params: 0\n",
            "_________________________________________________________________\n"
          ]
        }
      ]
    },
    {
      "cell_type": "code",
      "source": [
        "#train the model\n",
        "history = model.fit(x_train, y_train, epochs=10, batch_size=10)"
      ],
      "metadata": {
        "colab": {
          "base_uri": "https://localhost:8080/"
        },
        "id": "vAHmKTKIXuzy",
        "outputId": "c8ece46c-8972-4839-a490-5463b6676d43"
      },
      "execution_count": 281,
      "outputs": [
        {
          "output_type": "stream",
          "name": "stdout",
          "text": [
            "Epoch 1/10\n",
            "420/420 [==============================] - 1s 1ms/step - loss: 1.0375 - accuracy: 0.8838\n",
            "Epoch 2/10\n",
            "420/420 [==============================] - 0s 1ms/step - loss: 0.2557 - accuracy: 0.9283\n",
            "Epoch 3/10\n",
            "420/420 [==============================] - 0s 1ms/step - loss: 0.2400 - accuracy: 0.9317\n",
            "Epoch 4/10\n",
            "420/420 [==============================] - 0s 1ms/step - loss: 0.2474 - accuracy: 0.9205\n",
            "Epoch 5/10\n",
            "420/420 [==============================] - 0s 1ms/step - loss: 0.2365 - accuracy: 0.9352\n",
            "Epoch 6/10\n",
            "420/420 [==============================] - 0s 1ms/step - loss: 0.2273 - accuracy: 0.9390\n",
            "Epoch 7/10\n",
            "420/420 [==============================] - 0s 1ms/step - loss: 0.2347 - accuracy: 0.9340\n",
            "Epoch 8/10\n",
            "420/420 [==============================] - 0s 1ms/step - loss: 0.2233 - accuracy: 0.9388\n",
            "Epoch 9/10\n",
            "420/420 [==============================] - 0s 1ms/step - loss: 0.2168 - accuracy: 0.9417\n",
            "Epoch 10/10\n",
            "420/420 [==============================] - 0s 1ms/step - loss: 0.2197 - accuracy: 0.9400\n"
          ]
        }
      ]
    },
    {
      "cell_type": "code",
      "source": [
        "#evaluate model and test it\n",
        "test_loss, test_acc = model.evaluate(x_test, y_test)\n",
        "print('Test loss: %.2f' % test_loss)\n",
        "print('Test Accuracy: %.2f' % (test_acc*100))\n",
        "\n",
        "y_pred = model.predict(x_test)\n",
        "y_pred = (model.predict(x_test) > 0.5).astype(int)\n"
      ],
      "metadata": {
        "id": "af2i3CGzXxym",
        "colab": {
          "base_uri": "https://localhost:8080/"
        },
        "outputId": "a6e66eae-9b0b-4e70-d3fb-3122fec7d4f4"
      },
      "execution_count": 282,
      "outputs": [
        {
          "output_type": "stream",
          "name": "stdout",
          "text": [
            "57/57 [==============================] - 0s 1ms/step - loss: 0.3006 - accuracy: 0.9217\n",
            "Test loss: 0.30\n",
            "Test Accuracy: 92.17\n",
            "57/57 [==============================] - 0s 845us/step\n",
            "57/57 [==============================] - 0s 844us/step\n"
          ]
        }
      ]
    },
    {
      "cell_type": "code",
      "source": [
        "#predictions\n",
        "correct=0\n",
        "for i in range(len(y_test)):\n",
        " if y_pred[i]== y_test[i]:\n",
        "   correct=correct+1\n",
        "print('number of correct prediction', correct ,'from', len(y_test))"
      ],
      "metadata": {
        "colab": {
          "base_uri": "https://localhost:8080/"
        },
        "id": "VicYmbkhi1de",
        "outputId": "56d3d963-f47f-48f0-9b2e-eb3bdf2ac1df"
      },
      "execution_count": 283,
      "outputs": [
        {
          "output_type": "stream",
          "name": "stdout",
          "text": [
            "number of correct prediction 1659 from 1800\n"
          ]
        }
      ]
    },
    {
      "cell_type": "code",
      "source": [
        "from sklearn.metrics import classification_report, confusion_matrix, plot_confusion_matrix, ConfusionMatrixDisplay\n",
        "\n",
        "#confuision matrix to see the TP,TN,FP,FN\n",
        "conf_mat = confusion_matrix(y_test, y_pred)\n",
        "print(conf_mat)\n",
        "\n",
        "disp = ConfusionMatrixDisplay(confusion_matrix= conf_mat, display_labels=[\"parasitized\", \"uninfected\"])\n",
        "disp = disp.plot(cmap=plt.cm.Blues, values_format = 'g')"
      ],
      "metadata": {
        "colab": {
          "base_uri": "https://localhost:8080/",
          "height": 314
        },
        "id": "_YhSZNg_i29V",
        "outputId": "bcf6a6eb-ec53-4be1-b2cd-f5c854bf1a01"
      },
      "execution_count": 284,
      "outputs": [
        {
          "output_type": "stream",
          "name": "stdout",
          "text": [
            "[[856  54]\n",
            " [ 87 803]]\n"
          ]
        },
        {
          "output_type": "display_data",
          "data": {
            "text/plain": [
              "<Figure size 432x288 with 2 Axes>"
            ],
            "image/png": "[encoded data removed]"
          },
          "metadata": {
            "needs_background": "light"
          }
        }
      ]
    },
    {
      "cell_type": "code",
      "source": [
        "history_dict = history.history\n",
        "loss_values = history_dict['loss']\n",
        "accuracy = history_dict['accuracy']\n",
        "\n",
        " \n",
        "epochs = range(1, len(loss_values) + 1)\n",
        "fig, ax = plt.subplots(1, 2, figsize=(10, 4))\n",
        "\n",
        "# Plot the model accuracy vs Epochs\n",
        "\n",
        "ax[0].plot(epochs, accuracy, 'r', label='Training accuracy')\n",
        "\n",
        "ax[0].set_title('Training Accuracy', fontsize=16)\n",
        "ax[0].set_xlabel('Epochs', fontsize=16)\n",
        "ax[0].set_ylabel('Accuracy', fontsize=16)\n",
        "ax[0].legend()\n",
        "\n",
        "# Plot the loss vs Epochs\n",
        "\n",
        "ax[1].plot(epochs, loss_values, 'r', label='Training loss')\n",
        "ax[1].set_title('Training Loss', fontsize=16)\n",
        "ax[1].set_xlabel('Epochs', fontsize=16)\n",
        "ax[1].set_ylabel('Loss', fontsize=16)\n",
        "ax[1].legend()"
      ],
      "metadata": {
        "id": "wrJEdsa9i4Uy",
        "colab": {
          "base_uri": "https://localhost:8080/",
          "height": 319
        },
        "outputId": "2083fa3a-a4b0-4a20-f020-25a826f460d5"
      },
      "execution_count": 285,
      "outputs": [
        {
          "output_type": "execute_result",
          "data": {
            "text/plain": [
              "<matplotlib.legend.Legend at 0x7f8554694ee0>"
            ]
          },
          "metadata": {},
          "execution_count": 285
        },
        {
          "output_type": "display_data",
          "data": {
            "text/plain": [
              "<Figure size 720x288 with 2 Axes>"
            ],
            "image/png": "[encoded data removed]"
          },
          "metadata": {
            "needs_background": "light"
          }
        }
      ]
    },
    {
      "cell_type": "code",
      "source": [],
      "metadata": {
        "id": "SUTsI98nz3XY"
      },
      "execution_count": null,
      "outputs": []
    }
  ]
}